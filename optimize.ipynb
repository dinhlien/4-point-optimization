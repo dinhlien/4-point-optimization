import math
from scipy.optimize import minimize


def f(param):
   u, v = param
   z = 0
   for i in range(0, 3):
       z+= 1/((u - x[i])**2 + (v - y[i])**2)
   return z


N=10
z0 = (0, 0)
z1 = (1, 0)
z2 = (1, 1)
maximin=0
curmin=0
bounds = ((-1, 1), (-1, 1))
x=[None]*4
y=[None]*4


for i in range(0, N - 1):
    x[0] = -1 + (2 * i + 1)/ N
    for j in range(0, N-1):
        y[0] = -1 + (2 * j + 1)/ N
        for k in range(0, N - 1):
            x[1] = -1 + (2 * k + 1) / N
            for l in range(0, N - 1):
                y[1] = -1 + (2 * j + 1) / N
                for m in range(0, N - 1):
                    x[2] = -1 + (2 * m + 1) / N
                    for n in range(0, N - 1):
                        y[2] = -1 + (2 * n + 1) / N
                        for p in range(0, N - 1):
                            x[3] = -1 + (2 * p + 1) / N
                            for q in range(0, N - 1):
                                y[3] = -1 + (2 * q + 1) / N
                                res0 = minimize(f, z0, method='SLSQP',
                                           options={'disp': False}, bounds=bounds, tol=1e-6)
                                res1 = minimize(f, z1, method='SLSQP',
                                                options={'disp': False}, bounds=bounds, tol=1e-6)
                                res2 = res0 = minimize(f, z2, method='SLSQP',
                                           options={'disp': False}, bounds=bounds, tol=1e-6)

                                curmin=min(res0.fun,res1.fun,res2.fun)
                                if curmin > maximin:
                                    maximinmin = curmin



